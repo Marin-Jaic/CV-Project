{
 "cells": [
  {
   "cell_type": "markdown",
   "source": [
    "# Read Parquet Files\n"
   ],
   "metadata": {
    "collapsed": false
   },
   "id": "bfbeda3dc8088c69"
  },
  {
   "cell_type": "code",
   "execution_count": 1,
   "id": "initial_id",
   "metadata": {
    "collapsed": true,
    "ExecuteTime": {
     "end_time": "2024-05-15T11:02:02.655253Z",
     "start_time": "2024-05-15T11:02:01.660806Z"
    }
   },
   "outputs": [
    {
     "data": {
      "text/plain": "                                               image  \\\n0  {'bytes': b'\\xff\\xd8\\xff\\xe0\\x00\\x10JFIF\\x00\\x...   \n1  {'bytes': b'\\xff\\xd8\\xff\\xe0\\x00\\x10JFIF\\x00\\x...   \n2  {'bytes': b'\\xff\\xd8\\xff\\xe0\\x00\\x10JFIF\\x00\\x...   \n3  {'bytes': b'\\xff\\xd8\\xff\\xe0\\x00\\x10JFIF\\x00\\x...   \n4  {'bytes': b'\\xff\\xd8\\xff\\xe0\\x00\\x10JFIF\\x00\\x...   \n\n                                                mask  \n0  {'bytes': b'\\x89PNG\\r\\n\\x1a\\n\\x00\\x00\\x00\\rIHD...  \n1  {'bytes': b'\\x89PNG\\r\\n\\x1a\\n\\x00\\x00\\x00\\rIHD...  \n2  {'bytes': b'\\x89PNG\\r\\n\\x1a\\n\\x00\\x00\\x00\\rIHD...  \n3  {'bytes': b'\\x89PNG\\r\\n\\x1a\\n\\x00\\x00\\x00\\rIHD...  \n4  {'bytes': b'\\x89PNG\\r\\n\\x1a\\n\\x00\\x00\\x00\\rIHD...  ",
      "text/html": "<div>\n<style scoped>\n    .dataframe tbody tr th:only-of-type {\n        vertical-align: middle;\n    }\n\n    .dataframe tbody tr th {\n        vertical-align: top;\n    }\n\n    .dataframe thead th {\n        text-align: right;\n    }\n</style>\n<table border=\"1\" class=\"dataframe\">\n  <thead>\n    <tr style=\"text-align: right;\">\n      <th></th>\n      <th>image</th>\n      <th>mask</th>\n    </tr>\n  </thead>\n  <tbody>\n    <tr>\n      <th>0</th>\n      <td>{'bytes': b'\\xff\\xd8\\xff\\xe0\\x00\\x10JFIF\\x00\\x...</td>\n      <td>{'bytes': b'\\x89PNG\\r\\n\\x1a\\n\\x00\\x00\\x00\\rIHD...</td>\n    </tr>\n    <tr>\n      <th>1</th>\n      <td>{'bytes': b'\\xff\\xd8\\xff\\xe0\\x00\\x10JFIF\\x00\\x...</td>\n      <td>{'bytes': b'\\x89PNG\\r\\n\\x1a\\n\\x00\\x00\\x00\\rIHD...</td>\n    </tr>\n    <tr>\n      <th>2</th>\n      <td>{'bytes': b'\\xff\\xd8\\xff\\xe0\\x00\\x10JFIF\\x00\\x...</td>\n      <td>{'bytes': b'\\x89PNG\\r\\n\\x1a\\n\\x00\\x00\\x00\\rIHD...</td>\n    </tr>\n    <tr>\n      <th>3</th>\n      <td>{'bytes': b'\\xff\\xd8\\xff\\xe0\\x00\\x10JFIF\\x00\\x...</td>\n      <td>{'bytes': b'\\x89PNG\\r\\n\\x1a\\n\\x00\\x00\\x00\\rIHD...</td>\n    </tr>\n    <tr>\n      <th>4</th>\n      <td>{'bytes': b'\\xff\\xd8\\xff\\xe0\\x00\\x10JFIF\\x00\\x...</td>\n      <td>{'bytes': b'\\x89PNG\\r\\n\\x1a\\n\\x00\\x00\\x00\\rIHD...</td>\n    </tr>\n  </tbody>\n</table>\n</div>"
     },
     "execution_count": 1,
     "metadata": {},
     "output_type": "execute_result"
    }
   ],
   "source": [
    "import pyarrow.parquet as pq\n",
    "\n",
    "dataset = pq.ParquetDataset('data')\n",
    "table = dataset.read()\n",
    "df = table.to_pandas()\n",
    "df.head()"
   ]
  },
  {
   "cell_type": "markdown",
   "source": [
    "# Train Test Split"
   ],
   "metadata": {
    "collapsed": false
   },
   "id": "e0d33544b9f63358"
  },
  {
   "cell_type": "code",
   "outputs": [],
   "source": [
    "from sklearn.model_selection import train_test_split\n",
    "\n",
    "train_df, test_df = train_test_split(df, test_size=0.2)"
   ],
   "metadata": {
    "collapsed": false,
    "ExecuteTime": {
     "end_time": "2024-05-15T11:02:06.575632Z",
     "start_time": "2024-05-15T11:02:05.676902Z"
    }
   },
   "id": "5415729347644e37",
   "execution_count": 2
  },
  {
   "cell_type": "markdown",
   "source": [
    "# Define Dataset"
   ],
   "metadata": {
    "collapsed": false
   },
   "id": "81dbb2f146ffc9ff"
  },
  {
   "cell_type": "code",
   "outputs": [],
   "source": [
    "def convert2SimpleMask(mask : np.array):\n",
    "    mask[np.isin(mask, [1, 3, 4, 5, 6, 7, 8, 9, 10, 16, 17])] = 1\n",
    "    mask[np.isin(mask, [2, 11, 12, 13, 14, 15])] = 2\n",
    "    return mask\n",
    "    "
   ],
   "metadata": {
    "collapsed": false,
    "ExecuteTime": {
     "end_time": "2024-05-15T11:11:03.772239Z",
     "start_time": "2024-05-15T11:11:03.767564Z"
    }
   },
   "id": "f56af1c120eaaa2c",
   "execution_count": 18
  },
  {
   "cell_type": "code",
   "outputs": [],
   "source": [
    "from PIL import Image\n",
    "import torch\n",
    "from torch.utils.data import Dataset\n",
    "from io import BytesIO\n",
    "\n",
    "class SegmentationDataset(Dataset):\n",
    "    def __init__(self, dataframe, transform=None):\n",
    "        self.dataframe = dataframe\n",
    "        self.transform = transform\n",
    "\n",
    "    def __len__(self):\n",
    "        return len(self.dataframe)\n",
    "\n",
    "    def __getitem__(self, idx):\n",
    "        if torch.is_tensor(idx):\n",
    "            idx = idx.tolist()\n",
    "\n",
    "        image = Image.open(BytesIO(self.dataframe.iloc[idx, 0]['bytes'])) # image\n",
    "        mask = convert2SimpleMask(np.array(Image.open(BytesIO(self.dataframe.iloc[idx, 1]['bytes'])))) # mask\n",
    "\n",
    "        if self.transform:\n",
    "            image = self.transform(image)\n",
    "            mask = self.transform(mask)\n",
    "\n",
    "        return image, mask"
   ],
   "metadata": {
    "collapsed": false,
    "ExecuteTime": {
     "end_time": "2024-05-15T11:25:43.114920Z",
     "start_time": "2024-05-15T11:25:43.087898Z"
    }
   },
   "id": "bac3e9ccf8914502",
   "execution_count": 48
  },
  {
   "cell_type": "markdown",
   "source": [
    "# Add transforms"
   ],
   "metadata": {
    "collapsed": false
   },
   "id": "7f9b02b933991aff"
  },
  {
   "cell_type": "code",
   "outputs": [],
   "source": [
    "from torchvision import transforms\n",
    "\n",
    "mean = torch.tensor([0.593, 0.567, 0.534])\n",
    "std = torch.tensor([0.247, 0.247, 0.247])\n",
    "\n",
    "trainsform = transforms.Compose([\n",
    "    transforms.ToTensor(),\n",
    "    transforms.Resize((600, 400)),\n",
    "    transforms.Normalize(mean, std)\n",
    "])\n",
    "\n",
    "train_dataset = SegmentationDataset(train_df, transform=trainsform)\n",
    "test_dataset = SegmentationDataset(test_df, transform=trainsform)"
   ],
   "metadata": {
    "collapsed": false,
    "ExecuteTime": {
     "end_time": "2024-05-15T11:38:48.403735Z",
     "start_time": "2024-05-15T11:38:48.401265Z"
    }
   },
   "id": "d5afed36c3f09d90",
   "execution_count": 61
  },
  {
   "cell_type": "markdown",
   "source": [
    "# DataLoader"
   ],
   "metadata": {
    "collapsed": false
   },
   "id": "e4a744fe8ba93da3"
  },
  {
   "cell_type": "code",
   "outputs": [],
   "source": [
    "from torch.utils.data import DataLoader\n",
    "\n",
    "train_loader = DataLoader(train_dataset, batch_size=4, shuffle=True)\n",
    "test_loader = DataLoader(test_dataset, batch_size=4, shuffle=False)"
   ],
   "metadata": {
    "collapsed": false,
    "ExecuteTime": {
     "end_time": "2024-05-15T11:38:50.662561Z",
     "start_time": "2024-05-15T11:38:50.658397Z"
    }
   },
   "id": "6420abd2d028b16c",
   "execution_count": 62
  },
  {
   "cell_type": "code",
   "outputs": [
    {
     "data": {
      "text/plain": "(tensor([0.5927, 0.5667, 0.5338]), tensor([0.2466, 0.2467, 0.2466]))"
     },
     "execution_count": 59,
     "metadata": {},
     "output_type": "execute_result"
    }
   ],
   "source": [
    "# mean = torch.zeros(3)\n",
    "# std = torch.zeros(3)\n",
    "# \n",
    "# for i, (image, _) in enumerate(train_loader):\n",
    "#     batch_samples = image.size(0) # batch size (the last batch can have smaller size!)\n",
    "#     image = image.view(batch_samples, image.size(1), -1)\n",
    "#     mean += image.mean(2).sum(0)\n",
    "#     std += image.std(2).sum(0)\n",
    "# \n",
    "# mean /= len(train_loader.dataset)\n",
    "# std /= len(train_loader.dataset)\n",
    "# mean, std"
   ],
   "metadata": {
    "collapsed": false,
    "ExecuteTime": {
     "end_time": "2024-05-15T11:36:11.772236Z",
     "start_time": "2024-05-15T11:34:59.734670Z"
    }
   },
   "id": "38857a5cf8a51ff6",
   "execution_count": 59
  }
 ],
 "metadata": {
  "kernelspec": {
   "display_name": "Python 3",
   "language": "python",
   "name": "python3"
  },
  "language_info": {
   "codemirror_mode": {
    "name": "ipython",
    "version": 2
   },
   "file_extension": ".py",
   "mimetype": "text/x-python",
   "name": "python",
   "nbconvert_exporter": "python",
   "pygments_lexer": "ipython2",
   "version": "2.7.6"
  }
 },
 "nbformat": 4,
 "nbformat_minor": 5
}
