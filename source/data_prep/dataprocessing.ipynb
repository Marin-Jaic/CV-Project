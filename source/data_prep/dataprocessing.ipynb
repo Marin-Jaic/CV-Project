{
 "cells": [
  {
   "cell_type": "markdown",
   "id": "bfbeda3dc8088c69",
   "metadata": {
    "collapsed": false
   },
   "source": [
    "# Read Parquet Files\n"
   ]
  },
  {
   "cell_type": "code",
   "execution_count": 2,
   "id": "initial_id",
   "metadata": {
    "ExecuteTime": {
     "end_time": "2024-05-22T11:40:22.588480Z",
     "start_time": "2024-05-22T11:40:21.367079Z"
    },
    "collapsed": true
   },
   "outputs": [
    {
     "data": {
      "text/html": [
       "<div>\n",
       "<style scoped>\n",
       "    .dataframe tbody tr th:only-of-type {\n",
       "        vertical-align: middle;\n",
       "    }\n",
       "\n",
       "    .dataframe tbody tr th {\n",
       "        vertical-align: top;\n",
       "    }\n",
       "\n",
       "    .dataframe thead th {\n",
       "        text-align: right;\n",
       "    }\n",
       "</style>\n",
       "<table border=\"1\" class=\"dataframe\">\n",
       "  <thead>\n",
       "    <tr style=\"text-align: right;\">\n",
       "      <th></th>\n",
       "      <th>image</th>\n",
       "      <th>mask</th>\n",
       "    </tr>\n",
       "  </thead>\n",
       "  <tbody>\n",
       "    <tr>\n",
       "      <th>0</th>\n",
       "      <td>{'bytes': b'\\xff\\xd8\\xff\\xe0\\x00\\x10JFIF\\x00\\x...</td>\n",
       "      <td>{'bytes': b'\\x89PNG\\r\\n\\x1a\\n\\x00\\x00\\x00\\rIHD...</td>\n",
       "    </tr>\n",
       "    <tr>\n",
       "      <th>1</th>\n",
       "      <td>{'bytes': b'\\xff\\xd8\\xff\\xe0\\x00\\x10JFIF\\x00\\x...</td>\n",
       "      <td>{'bytes': b'\\x89PNG\\r\\n\\x1a\\n\\x00\\x00\\x00\\rIHD...</td>\n",
       "    </tr>\n",
       "    <tr>\n",
       "      <th>2</th>\n",
       "      <td>{'bytes': b'\\xff\\xd8\\xff\\xe0\\x00\\x10JFIF\\x00\\x...</td>\n",
       "      <td>{'bytes': b'\\x89PNG\\r\\n\\x1a\\n\\x00\\x00\\x00\\rIHD...</td>\n",
       "    </tr>\n",
       "    <tr>\n",
       "      <th>3</th>\n",
       "      <td>{'bytes': b'\\xff\\xd8\\xff\\xe0\\x00\\x10JFIF\\x00\\x...</td>\n",
       "      <td>{'bytes': b'\\x89PNG\\r\\n\\x1a\\n\\x00\\x00\\x00\\rIHD...</td>\n",
       "    </tr>\n",
       "    <tr>\n",
       "      <th>4</th>\n",
       "      <td>{'bytes': b'\\xff\\xd8\\xff\\xe0\\x00\\x10JFIF\\x00\\x...</td>\n",
       "      <td>{'bytes': b'\\x89PNG\\r\\n\\x1a\\n\\x00\\x00\\x00\\rIHD...</td>\n",
       "    </tr>\n",
       "  </tbody>\n",
       "</table>\n",
       "</div>"
      ],
      "text/plain": [
       "                                               image  \\\n",
       "0  {'bytes': b'\\xff\\xd8\\xff\\xe0\\x00\\x10JFIF\\x00\\x...   \n",
       "1  {'bytes': b'\\xff\\xd8\\xff\\xe0\\x00\\x10JFIF\\x00\\x...   \n",
       "2  {'bytes': b'\\xff\\xd8\\xff\\xe0\\x00\\x10JFIF\\x00\\x...   \n",
       "3  {'bytes': b'\\xff\\xd8\\xff\\xe0\\x00\\x10JFIF\\x00\\x...   \n",
       "4  {'bytes': b'\\xff\\xd8\\xff\\xe0\\x00\\x10JFIF\\x00\\x...   \n",
       "\n",
       "                                                mask  \n",
       "0  {'bytes': b'\\x89PNG\\r\\n\\x1a\\n\\x00\\x00\\x00\\rIHD...  \n",
       "1  {'bytes': b'\\x89PNG\\r\\n\\x1a\\n\\x00\\x00\\x00\\rIHD...  \n",
       "2  {'bytes': b'\\x89PNG\\r\\n\\x1a\\n\\x00\\x00\\x00\\rIHD...  \n",
       "3  {'bytes': b'\\x89PNG\\r\\n\\x1a\\n\\x00\\x00\\x00\\rIHD...  \n",
       "4  {'bytes': b'\\x89PNG\\r\\n\\x1a\\n\\x00\\x00\\x00\\rIHD...  "
      ]
     },
     "execution_count": 2,
     "metadata": {},
     "output_type": "execute_result"
    }
   ],
   "source": [
    "import pyarrow.parquet as pq\n",
    "import numpy as np\n",
    "import pandas as pd\n",
    "from sklearn.model_selection import train_test_split\n",
    "\n",
    "\n",
    "dataset = pq.ParquetDataset('../data')\n",
    "table = dataset.read()\n",
    "df = table.to_pandas()\n",
    "df.head()"
   ]
  },
  {
   "cell_type": "markdown",
   "id": "e0d33544b9f63358",
   "metadata": {
    "collapsed": false
   },
   "source": [
    "# Train Test Split"
   ]
  },
  {
   "cell_type": "code",
   "execution_count": 3,
   "id": "5415729347644e37",
   "metadata": {
    "ExecuteTime": {
     "end_time": "2024-05-22T11:40:24.260903Z",
     "start_time": "2024-05-22T11:40:24.256567Z"
    },
    "collapsed": false
   },
   "outputs": [],
   "source": [
    "\n",
    "train_df, test_df = train_test_split(df, test_size=0.2)"
   ]
  },
  {
   "cell_type": "markdown",
   "id": "81dbb2f146ffc9ff",
   "metadata": {
    "collapsed": false
   },
   "source": [
    "# Define Dataset"
   ]
  },
  {
   "cell_type": "code",
   "execution_count": 4,
   "id": "f56af1c120eaaa2c",
   "metadata": {
    "ExecuteTime": {
     "end_time": "2024-05-22T11:40:25.839353Z",
     "start_time": "2024-05-22T11:40:25.836103Z"
    },
    "collapsed": false
   },
   "outputs": [],
   "source": [
    "def convert2SimpleMask(mask : np.array):\n",
    "    mask[np.isin(mask, [1, 3, 4, 5, 6, 7, 8, 9, 10, 16, 17])] = 1\n",
    "    mask[np.isin(mask, [2, 11, 12, 13, 14, 15])] = 2\n",
    "    return mask\n",
    "    "
   ]
  },
  {
   "cell_type": "code",
   "execution_count": 5,
   "id": "bac3e9ccf8914502",
   "metadata": {
    "ExecuteTime": {
     "end_time": "2024-05-22T11:40:29.078754Z",
     "start_time": "2024-05-22T11:40:27.168161Z"
    },
    "collapsed": false
   },
   "outputs": [],
   "source": [
    "from PIL import Image\n",
    "import torch\n",
    "from torch.utils.data import Dataset\n",
    "from io import BytesIO\n",
    "\n",
    "class SegmentationDataset(Dataset):\n",
    "    def __init__(self, dataframe, transform=None):\n",
    "        self.dataframe = dataframe\n",
    "        self.transform = transform\n",
    "\n",
    "    def __len__(self):\n",
    "        return len(self.dataframe)\n",
    "\n",
    "    def __getitem__(self, idx):\n",
    "        if torch.is_tensor(idx):\n",
    "            idx = idx.tolist()\n",
    "\n",
    "        image = Image.open(BytesIO(self.dataframe.iloc[idx, 0]['bytes'])) # image\n",
    "        mask = convert2SimpleMask(np.array(Image.open(BytesIO(self.dataframe.iloc[idx, 1]['bytes'])))) # mask\n",
    "\n",
    "        if self.transform:\n",
    "            image = self.transform(image)\n",
    "            mask = self.transform(mask)\n",
    "\n",
    "        return image, mask"
   ]
  },
  {
   "cell_type": "markdown",
   "id": "7f9b02b933991aff",
   "metadata": {
    "collapsed": false
   },
   "source": [
    "# Add transforms"
   ]
  },
  {
   "cell_type": "code",
   "execution_count": 6,
   "id": "d5afed36c3f09d90",
   "metadata": {
    "ExecuteTime": {
     "end_time": "2024-05-22T11:40:31.000471Z",
     "start_time": "2024-05-22T11:40:29.975345Z"
    },
    "collapsed": false
   },
   "outputs": [],
   "source": [
    "from torchvision import transforms\n",
    "\n",
    "mean = torch.tensor([0.593, 0.567, 0.534])\n",
    "std = torch.tensor([0.247, 0.247, 0.247])\n",
    "\n",
    "trainsform = transforms.Compose([\n",
    "    transforms.ToTensor(),\n",
    "    transforms.Resize((600, 400)),\n",
    "    transforms.Normalize(mean, std)\n",
    "])\n",
    "\n",
    "train_dataset = SegmentationDataset(train_df, transform=trainsform)\n",
    "test_dataset = SegmentationDataset(test_df, transform=trainsform)"
   ]
  },
  {
   "cell_type": "markdown",
   "id": "e4a744fe8ba93da3",
   "metadata": {
    "collapsed": false
   },
   "source": [
    "# DataLoader"
   ]
  },
  {
   "cell_type": "code",
   "execution_count": 7,
   "id": "6420abd2d028b16c",
   "metadata": {
    "ExecuteTime": {
     "end_time": "2024-05-22T11:40:32.049889Z",
     "start_time": "2024-05-22T11:40:32.047113Z"
    },
    "collapsed": false
   },
   "outputs": [],
   "source": [
    "from torch.utils.data import DataLoader\n",
    "\n",
    "train_loader = DataLoader(train_dataset, batch_size=4, shuffle=True)\n",
    "test_loader = DataLoader(test_dataset, batch_size=4, shuffle=False)"
   ]
  },
  {
   "cell_type": "code",
   "execution_count": 8,
   "id": "38857a5cf8a51ff6",
   "metadata": {
    "ExecuteTime": {
     "end_time": "2024-05-22T11:40:33.556310Z",
     "start_time": "2024-05-22T11:40:33.553520Z"
    },
    "collapsed": false
   },
   "outputs": [],
   "source": [
    "# mean = torch.zeros(3)\n",
    "# std = torch.zeros(3)\n",
    "# \n",
    "# for i, (image, _) in enumerate(train_loader):\n",
    "#     batch_samples = image.size(0) # batch size (the last batch can have smaller size!)\n",
    "#     image = image.view(batch_samples, image.size(1), -1)\n",
    "#     mean += image.mean(2).sum(0)\n",
    "#     std += image.std(2).sum(0)\n",
    "# \n",
    "# mean /= len(train_loader.dataset)\n",
    "# std /= len(train_loader.dataset)\n",
    "# mean, std"
   ]
  },
  {
   "cell_type": "code",
   "execution_count": null,
   "id": "d4ed50bf6ab708d2",
   "metadata": {},
   "outputs": [],
   "source": []
  }
 ],
 "metadata": {
  "kernelspec": {
   "display_name": "Python 3",
   "language": "python",
   "name": "python3"
  },
  "language_info": {
   "codemirror_mode": {
    "name": "ipython",
    "version": 2
   },
   "file_extension": ".py",
   "mimetype": "text/x-python",
   "name": "python",
   "nbconvert_exporter": "python",
   "pygments_lexer": "ipython2",
   "version": "3.10.1"
  }
 },
 "nbformat": 4,
 "nbformat_minor": 5
}
