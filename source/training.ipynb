{
 "cells": [
  {
   "cell_type": "code",
   "metadata": {
    "ExecuteTime": {
     "end_time": "2024-06-11T10:12:15.621370Z",
     "start_time": "2024-06-11T10:12:12.800730Z"
    }
   },
   "source": [
    "import torch\n",
    "from models.UNet import UNet\n",
    "from data_prep.preprocess import *\n",
    "import torch.nn as nn\n",
    "import torch.nn.functional as F\n",
    "from pathlib import Path\n",
    "from torch.utils.data import DataLoader, random_split\n",
    "from torch import Tensor\n",
    "from torch import optim\n"
   ],
   "outputs": [],
   "execution_count": 1
  },
  {
   "cell_type": "markdown",
   "metadata": {},
   "source": "# Load data"
  },
  {
   "cell_type": "code",
   "metadata": {
    "ExecuteTime": {
     "end_time": "2024-06-11T10:14:31.358535Z",
     "start_time": "2024-06-11T10:14:30.000630Z"
    }
   },
   "source": [
    "n_classes = 18\n",
    "\n",
    "train_loader, test_loader = Preprocess().get_data_loaders(mask_classes=n_classes, use_simple_mask=False)\n",
    "\n",
    "input_height = 600\n",
    "input_width = 400\n",
    "input_features = 3\n",
    "\n",
    "device = 'cuda' if torch.cuda.is_available() else 'cpu'\n",
    "#device = 'mps'"
   ],
   "outputs": [],
   "execution_count": 4
  },
  {
   "metadata": {
    "ExecuteTime": {
     "end_time": "2024-06-11T10:14:40.409660Z",
     "start_time": "2024-06-11T10:14:40.404982Z"
    }
   },
   "cell_type": "code",
   "source": [
    "# compute class weights\n",
    "def compute_class_weights(train_loader, n_classes):\n",
    "    class_counts = torch.zeros(n_classes).to(device)\n",
    "    for _, mask in train_loader:\n",
    "        mask = mask.to(device)\n",
    "        for i in range(n_classes):\n",
    "            class_counts[i] += torch.sum(mask[:, i, :, :] == 1)\n",
    "    total_pixels = torch.sum(class_counts)\n",
    "    class_weights = total_pixels / (n_classes * class_counts)\n",
    "    print(class_weights)\n",
    "    return class_weights"
   ],
   "outputs": [],
   "execution_count": 5
  },
  {
   "metadata": {
    "ExecuteTime": {
     "end_time": "2024-06-11T10:16:42.260997Z",
     "start_time": "2024-06-11T10:14:43.932252Z"
    }
   },
   "cell_type": "code",
   "source": "class_weights = compute_class_weights(train_loader, n_classes)",
   "outputs": [
    {
     "name": "stdout",
     "output_type": "stream",
     "text": [
      "tensor([7.2208e-02, 2.4027e+01, 2.4508e+00, 8.4733e+01, 8.4814e-01, 3.3073e+00,\n",
      "        1.8537e+00, 2.1924e+00, 9.6567e+01, 1.1297e+01, 1.1388e+01, 4.6545e+00,\n",
      "        6.1772e+00, 6.2476e+00, 7.6860e+00, 7.6390e+00, 5.0762e+00, 3.2159e+01],\n",
      "       device='mps:0')\n"
     ]
    }
   ],
   "execution_count": 6
  },
  {
   "metadata": {
    "ExecuteTime": {
     "end_time": "2024-06-11T10:16:58.470873Z",
     "start_time": "2024-06-11T10:16:58.451627Z"
    }
   },
   "cell_type": "code",
   "source": "class_weights",
   "outputs": [
    {
     "data": {
      "text/plain": [
       "tensor([7.2208e-02, 2.4027e+01, 2.4508e+00, 8.4733e+01, 8.4814e-01, 3.3073e+00,\n",
       "        1.8537e+00, 2.1924e+00, 9.6567e+01, 1.1297e+01, 1.1388e+01, 4.6545e+00,\n",
       "        6.1772e+00, 6.2476e+00, 7.6860e+00, 7.6390e+00, 5.0762e+00, 3.2159e+01],\n",
       "       device='mps:0')"
      ]
     },
     "execution_count": 7,
     "metadata": {},
     "output_type": "execute_result"
    }
   ],
   "execution_count": 7
  },
  {
   "cell_type": "markdown",
   "metadata": {},
   "source": [
    "# Define the model"
   ]
  },
  {
   "cell_type": "code",
   "metadata": {
    "ExecuteTime": {
     "end_time": "2024-06-11T10:17:07.845076Z",
     "start_time": "2024-06-11T10:17:07.837146Z"
    }
   },
   "source": [
    "\"\"\" Parts of the U-Net model \"\"\"\n",
    "\n",
    "\n",
    "class DoubleConv(nn.Module):\n",
    "    \"\"\"(convolution => [BN] => ReLU) * 2\"\"\"\n",
    "\n",
    "    def __init__(self, in_channels, out_channels, mid_channels=None):\n",
    "        super().__init__()\n",
    "        if not mid_channels:\n",
    "            mid_channels = out_channels\n",
    "        self.double_conv = nn.Sequential(\n",
    "            nn.Conv2d(in_channels, mid_channels, kernel_size=3, padding=1, bias=False),\n",
    "            nn.BatchNorm2d(mid_channels),\n",
    "            nn.ReLU(inplace=True),\n",
    "            nn.Conv2d(mid_channels, out_channels, kernel_size=3, padding=1, bias=False),\n",
    "            nn.BatchNorm2d(out_channels),\n",
    "            nn.ReLU(inplace=True)\n",
    "        )\n",
    "\n",
    "    def forward(self, x):\n",
    "        return self.double_conv(x)\n",
    "\n",
    "\n",
    "class Down(nn.Module):\n",
    "    \"\"\"Downscaling with maxpool then double conv\"\"\"\n",
    "\n",
    "    def __init__(self, in_channels, out_channels):\n",
    "        super().__init__()\n",
    "        self.maxpool_conv = nn.Sequential(\n",
    "            nn.MaxPool2d(2),\n",
    "            DoubleConv(in_channels, out_channels)\n",
    "        )\n",
    "\n",
    "    def forward(self, x):\n",
    "        return self.maxpool_conv(x)\n",
    "\n",
    "\n",
    "class Up(nn.Module):\n",
    "    \"\"\"Upscaling then double conv\"\"\"\n",
    "\n",
    "    def __init__(self, in_channels, out_channels, bilinear=True):\n",
    "        super().__init__()\n",
    "\n",
    "        # if bilinear, use the normal convolutions to reduce the number of channels\n",
    "        if bilinear:\n",
    "            self.up = nn.Upsample(scale_factor=2, mode='bilinear', align_corners=True)\n",
    "            self.conv = DoubleConv(in_channels, out_channels, in_channels // 2)\n",
    "        else:\n",
    "            self.up = nn.ConvTranspose2d(in_channels, in_channels // 2, kernel_size=2, stride=2)\n",
    "            self.conv = DoubleConv(in_channels, out_channels)\n",
    "\n",
    "    def forward(self, x1, x2):\n",
    "        x1 = self.up(x1)\n",
    "        # input is CHW\n",
    "        diffY = x2.size()[2] - x1.size()[2]\n",
    "        diffX = x2.size()[3] - x1.size()[3]\n",
    "\n",
    "        x1 = F.pad(x1, [diffX // 2, diffX - diffX // 2,\n",
    "                        diffY // 2, diffY - diffY // 2])\n",
    "        # if you have padding issues, see\n",
    "        # https://github.com/HaiyongJiang/U-Net-Pytorch-Unstructured-Buggy/commit/0e854509c2cea854e247a9c615f175f76fbb2e3a\n",
    "        # https://github.com/xiaopeng-liao/Pytorch-UNet/commit/8ebac70e633bac59fc22bb5195e513d5832fb3bd\n",
    "        x = torch.cat([x2, x1], dim=1)\n",
    "        return self.conv(x)\n",
    "\n",
    "\n",
    "class OutConv(nn.Module):\n",
    "    def __init__(self, in_channels, out_channels):\n",
    "        super(OutConv, self).__init__()\n",
    "        self.conv = nn.Conv2d(in_channels, out_channels, kernel_size=1)\n",
    "\n",
    "    def forward(self, x):\n",
    "        return self.conv(x)\n",
    "    "
   ],
   "outputs": [],
   "execution_count": 8
  },
  {
   "cell_type": "code",
   "metadata": {
    "ExecuteTime": {
     "end_time": "2024-06-11T10:53:40.347789Z",
     "start_time": "2024-06-11T10:53:40.334920Z"
    }
   },
   "source": [
    "\"\"\" Full assembly of the parts to form the complete network \"\"\"\n",
    "\n",
    "\n",
    "class UNet(nn.Module):\n",
    "    def __init__(self, n_channels, n_classes, bilinear=False):\n",
    "        super().__init__()\n",
    "        self.n_channels = n_channels\n",
    "        self.n_classes = n_classes\n",
    "        self.bilinear = bilinear\n",
    "\n",
    "        self.inc = (DoubleConv(n_channels, 64))\n",
    "        self.down1 = (Down(64, 128))\n",
    "        self.down2 = (Down(128, 256))\n",
    "        self.down3 = (Down(256, 512))\n",
    "        factor = 2 if bilinear else 1\n",
    "        self.down4 = (Down(512, 1024 // factor))\n",
    "        self.up1 = (Up(1024, 512 // factor, bilinear))\n",
    "        self.up2 = (Up(512, 256 // factor, bilinear))\n",
    "        self.up3 = (Up(256, 128 // factor, bilinear))\n",
    "        self.up4 = (Up(128, 64, bilinear))\n",
    "        self.outc = (OutConv(64, n_classes))\n",
    "\n",
    "    def forward(self, x):\n",
    "        x1 = self.inc(x)\n",
    "        x2 = self.down1(x1)\n",
    "        x3 = self.down2(x2)\n",
    "        x4 = self.down3(x3)\n",
    "        x5 = self.down4(x4)\n",
    "        x = self.up1(x5, x4)\n",
    "        x = self.up2(x, x3)\n",
    "        x = self.up3(x, x2)\n",
    "        x = self.up4(x, x1)\n",
    "        x = self.outc(x)\n",
    "        #if self.n_classes == 3:\n",
    "        #    x = F.softmax(x, dim=1)\n",
    "        return x\n",
    "\n",
    "    def use_checkpointing(self):\n",
    "        self.inc = torch.utils.checkpoint(self.inc)\n",
    "        self.down1 = torch.utils.checkpoint(self.down1)\n",
    "        self.down2 = torch.utils.checkpoint(self.down2)\n",
    "        self.down3 = torch.utils.checkpoint(self.down3)\n",
    "        self.down4 = torch.utils.checkpoint(self.down4)\n",
    "        self.up1 = torch.utils.checkpoint(self.up1)\n",
    "        self.up2 = torch.utils.checkpoint(self.up2)\n",
    "        self.up3 = torch.utils.checkpoint(self.up3)\n",
    "        self.up4 = torch.utils.checkpoint(self.up4)\n",
    "        self.outc = torch.utils.checkpoint(self.outc)\n",
    "        "
   ],
   "outputs": [],
   "execution_count": 14
  },
  {
   "cell_type": "code",
   "metadata": {
    "ExecuteTime": {
     "end_time": "2024-06-11T10:17:32.947373Z",
     "start_time": "2024-06-11T10:17:32.943566Z"
    }
   },
   "source": [
    "\n",
    "def dice_coeff(input: Tensor, target: Tensor, reduce_batch_first: bool = False, epsilon: float = 1e-6):\n",
    "    # Average of Dice coefficient for all batches, or for a single mask\n",
    "    assert input.size() == target.size()\n",
    "    assert input.dim() == 3 or not reduce_batch_first\n",
    "\n",
    "    sum_dim = (-1, -2) if input.dim() == 2 or not reduce_batch_first else (-1, -2, -3)\n",
    "\n",
    "    inter = 2 * (input * target).sum(dim=sum_dim)\n",
    "    sets_sum = input.sum(dim=sum_dim) + target.sum(dim=sum_dim)\n",
    "    sets_sum = torch.where(sets_sum == 0, inter, sets_sum)\n",
    "\n",
    "    dice = (inter + epsilon) / (sets_sum + epsilon)\n",
    "    return dice.mean()\n",
    "\n",
    "\n",
    "def multiclass_dice_coeff(input: Tensor, target: Tensor, reduce_batch_first: bool = False, epsilon: float = 1e-6):\n",
    "    # Average of Dice coefficient for all classes\n",
    "    return dice_coeff(input.flatten(0, 1), target.flatten(0, 1), reduce_batch_first, epsilon)\n",
    "\n",
    "\n",
    "def dice_loss(input: Tensor, target: Tensor, multiclass: bool = False):\n",
    "    # Dice loss (objective to minimize) between 0 and 1\n",
    "    fn = multiclass_dice_coeff if multiclass else dice_coeff\n",
    "    return 1 - fn(input, target, reduce_batch_first=True)\n"
   ],
   "outputs": [],
   "execution_count": 10
  },
  {
   "cell_type": "markdown",
   "metadata": {},
   "source": [
    "# Train"
   ]
  },
  {
   "cell_type": "code",
   "metadata": {
    "collapsed": false,
    "ExecuteTime": {
     "end_time": "2024-06-11T10:20:52.091773Z",
     "start_time": "2024-06-11T10:20:52.085917Z"
    }
   },
   "source": [
    "def train_epoch(model, train_loader, criterion, optimizer, device):\n",
    "    model.train()\n",
    "    running_loss = 0.0\n",
    "    for inputs, labels in train_loader:\n",
    "        inputs, labels = inputs.to(device), labels.to(device)\n",
    "        optimizer.zero_grad()\n",
    "        outputs = model(inputs)\n",
    "        loss = criterion(outputs, labels)\n",
    "        mask_pred = F.one_hot(outputs.argmax(dim=1), n_classes).permute(0, 3, 1, 2).float()\n",
    "        # compute the Dice score, ignoring background\n",
    "        #loss += multiclass_dice_coeff(outputs[:, 1:], labels[:, 1:], reduce_batch_first=False)\n",
    "        loss += dice_loss(\n",
    "            F.softmax(outputs, dim=1).float(),\n",
    "            labels.float(),\n",
    "            multiclass=True\n",
    "        )\n",
    "        loss.backward()\n",
    "        optimizer.step()\n",
    "        running_loss += loss.item()\n",
    "    return running_loss / len(train_loader)\n",
    "    \n",
    "def test(model, test_loader, criterion, device):\n",
    "    model.eval()\n",
    "    running_loss = 0.0\n",
    "    with torch.no_grad():\n",
    "        for inputs, labels in test_loader:\n",
    "            inputs, labels = inputs.to(device), labels.to(device)\n",
    "            outputs = model(inputs)\n",
    "            running_loss += criterion(outputs, labels)\n",
    "    return running_loss / len(test_loader)"
   ],
   "outputs": [],
   "execution_count": 12
  },
  {
   "metadata": {
    "ExecuteTime": {
     "end_time": "2024-06-11T10:50:29.431082Z",
     "start_time": "2024-06-11T10:22:49.132900Z"
    }
   },
   "cell_type": "code",
   "source": [
    "epochs = 25\n",
    "learning_rate=1e-5\n",
    "weight_decay=1e-8\n",
    "gradient_clipping=1.0\n",
    "model = UNet(n_channels=3, n_classes=n_classes)\n",
    "train_losses = []\n",
    "test_losses = []\n",
    "model.to(device)\n",
    "optimizer = optim.Adam(model.parameters(), lr=learning_rate, weight_decay=weight_decay)\n",
    "criterion = nn.CrossEntropyLoss(weight=class_weights)\n",
    "for epoch in range(epochs):\n",
    "    print(f\"Epoch {epoch+1}\")\n",
    "    loss = train_epoch(model, train_loader, criterion, optimizer, device)\n",
    "    train_losses.append(loss)\n",
    "    print(f\"Train Loss: {loss}\")\n",
    "    test_loss = test(model, test_loader, criterion, device)\n",
    "    print(f\"Test Loss: {test_loss}\")\n",
    "    test_losses.append(test_loss)\n",
    "    #if epoch % 5 == 0:\n",
    "    #  torch.save(model.state_dict(), f'/content/gdrive/MyDrive/18classModel_epoch_{epoch}.pth')\n",
    "    #  metrics = compute_metrics(model, test_loader, device, n_classes=18)\n",
    "    #  with open(f'/content/gdrive/MyDrive/18class_epoch_{epoch}_metrics.pkl', 'wb') as file:\n",
    "    #    pickle.dump(metrics, file)\n",
    "    #  print(f\"Saved model at epoch {epoch}\")"
   ],
   "outputs": [
    {
     "name": "stdout",
     "output_type": "stream",
     "text": [
      "Epoch 1\n"
     ]
    },
    {
     "ename": "KeyboardInterrupt",
     "evalue": "",
     "output_type": "error",
     "traceback": [
      "\u001B[0;31m---------------------------------------------------------------------------\u001B[0m",
      "\u001B[0;31mKeyboardInterrupt\u001B[0m                         Traceback (most recent call last)",
      "Cell \u001B[0;32mIn[13], line 13\u001B[0m\n\u001B[1;32m     11\u001B[0m \u001B[38;5;28;01mfor\u001B[39;00m epoch \u001B[38;5;129;01min\u001B[39;00m \u001B[38;5;28mrange\u001B[39m(epochs):\n\u001B[1;32m     12\u001B[0m     \u001B[38;5;28mprint\u001B[39m(\u001B[38;5;124mf\u001B[39m\u001B[38;5;124m\"\u001B[39m\u001B[38;5;124mEpoch \u001B[39m\u001B[38;5;132;01m{\u001B[39;00mepoch\u001B[38;5;241m+\u001B[39m\u001B[38;5;241m1\u001B[39m\u001B[38;5;132;01m}\u001B[39;00m\u001B[38;5;124m\"\u001B[39m)\n\u001B[0;32m---> 13\u001B[0m     loss \u001B[38;5;241m=\u001B[39m train_epoch(model, train_loader, criterion, optimizer, device)\n\u001B[1;32m     14\u001B[0m     train_losses\u001B[38;5;241m.\u001B[39mappend(loss)\n\u001B[1;32m     15\u001B[0m     \u001B[38;5;28mprint\u001B[39m(\u001B[38;5;124mf\u001B[39m\u001B[38;5;124m\"\u001B[39m\u001B[38;5;124mTrain Loss: \u001B[39m\u001B[38;5;132;01m{\u001B[39;00mloss\u001B[38;5;132;01m}\u001B[39;00m\u001B[38;5;124m\"\u001B[39m)\n",
      "Cell \u001B[0;32mIn[12], line 17\u001B[0m, in \u001B[0;36mtrain_epoch\u001B[0;34m(model, train_loader, criterion, optimizer, device)\u001B[0m\n\u001B[1;32m     10\u001B[0m \u001B[38;5;66;03m# compute the Dice score, ignoring background\u001B[39;00m\n\u001B[1;32m     11\u001B[0m \u001B[38;5;66;03m#loss += multiclass_dice_coeff(outputs[:, 1:], labels[:, 1:], reduce_batch_first=False)\u001B[39;00m\n\u001B[1;32m     12\u001B[0m loss \u001B[38;5;241m+\u001B[39m\u001B[38;5;241m=\u001B[39m dice_loss(\n\u001B[1;32m     13\u001B[0m     F\u001B[38;5;241m.\u001B[39msoftmax(outputs, dim\u001B[38;5;241m=\u001B[39m\u001B[38;5;241m1\u001B[39m)\u001B[38;5;241m.\u001B[39mfloat(),\n\u001B[1;32m     14\u001B[0m     labels\u001B[38;5;241m.\u001B[39mfloat(),\n\u001B[1;32m     15\u001B[0m     multiclass\u001B[38;5;241m=\u001B[39m\u001B[38;5;28;01mTrue\u001B[39;00m\n\u001B[1;32m     16\u001B[0m )\n\u001B[0;32m---> 17\u001B[0m loss\u001B[38;5;241m.\u001B[39mbackward()\n\u001B[1;32m     18\u001B[0m optimizer\u001B[38;5;241m.\u001B[39mstep()\n\u001B[1;32m     19\u001B[0m running_loss \u001B[38;5;241m+\u001B[39m\u001B[38;5;241m=\u001B[39m loss\u001B[38;5;241m.\u001B[39mitem()\n",
      "File \u001B[0;32m/opt/anaconda3/envs/pythonProject/lib/python3.11/site-packages/torch/_tensor.py:525\u001B[0m, in \u001B[0;36mTensor.backward\u001B[0;34m(self, gradient, retain_graph, create_graph, inputs)\u001B[0m\n\u001B[1;32m    515\u001B[0m \u001B[38;5;28;01mif\u001B[39;00m has_torch_function_unary(\u001B[38;5;28mself\u001B[39m):\n\u001B[1;32m    516\u001B[0m     \u001B[38;5;28;01mreturn\u001B[39;00m handle_torch_function(\n\u001B[1;32m    517\u001B[0m         Tensor\u001B[38;5;241m.\u001B[39mbackward,\n\u001B[1;32m    518\u001B[0m         (\u001B[38;5;28mself\u001B[39m,),\n\u001B[0;32m   (...)\u001B[0m\n\u001B[1;32m    523\u001B[0m         inputs\u001B[38;5;241m=\u001B[39minputs,\n\u001B[1;32m    524\u001B[0m     )\n\u001B[0;32m--> 525\u001B[0m torch\u001B[38;5;241m.\u001B[39mautograd\u001B[38;5;241m.\u001B[39mbackward(\n\u001B[1;32m    526\u001B[0m     \u001B[38;5;28mself\u001B[39m, gradient, retain_graph, create_graph, inputs\u001B[38;5;241m=\u001B[39minputs\n\u001B[1;32m    527\u001B[0m )\n",
      "File \u001B[0;32m/opt/anaconda3/envs/pythonProject/lib/python3.11/site-packages/torch/autograd/__init__.py:267\u001B[0m, in \u001B[0;36mbackward\u001B[0;34m(tensors, grad_tensors, retain_graph, create_graph, grad_variables, inputs)\u001B[0m\n\u001B[1;32m    262\u001B[0m     retain_graph \u001B[38;5;241m=\u001B[39m create_graph\n\u001B[1;32m    264\u001B[0m \u001B[38;5;66;03m# The reason we repeat the same comment below is that\u001B[39;00m\n\u001B[1;32m    265\u001B[0m \u001B[38;5;66;03m# some Python versions print out the first line of a multi-line function\u001B[39;00m\n\u001B[1;32m    266\u001B[0m \u001B[38;5;66;03m# calls in the traceback and some print out the last line\u001B[39;00m\n\u001B[0;32m--> 267\u001B[0m _engine_run_backward(\n\u001B[1;32m    268\u001B[0m     tensors,\n\u001B[1;32m    269\u001B[0m     grad_tensors_,\n\u001B[1;32m    270\u001B[0m     retain_graph,\n\u001B[1;32m    271\u001B[0m     create_graph,\n\u001B[1;32m    272\u001B[0m     inputs,\n\u001B[1;32m    273\u001B[0m     allow_unreachable\u001B[38;5;241m=\u001B[39m\u001B[38;5;28;01mTrue\u001B[39;00m,\n\u001B[1;32m    274\u001B[0m     accumulate_grad\u001B[38;5;241m=\u001B[39m\u001B[38;5;28;01mTrue\u001B[39;00m,\n\u001B[1;32m    275\u001B[0m )\n",
      "File \u001B[0;32m/opt/anaconda3/envs/pythonProject/lib/python3.11/site-packages/torch/autograd/graph.py:744\u001B[0m, in \u001B[0;36m_engine_run_backward\u001B[0;34m(t_outputs, *args, **kwargs)\u001B[0m\n\u001B[1;32m    742\u001B[0m     unregister_hooks \u001B[38;5;241m=\u001B[39m _register_logging_hooks_on_whole_graph(t_outputs)\n\u001B[1;32m    743\u001B[0m \u001B[38;5;28;01mtry\u001B[39;00m:\n\u001B[0;32m--> 744\u001B[0m     \u001B[38;5;28;01mreturn\u001B[39;00m Variable\u001B[38;5;241m.\u001B[39m_execution_engine\u001B[38;5;241m.\u001B[39mrun_backward(  \u001B[38;5;66;03m# Calls into the C++ engine to run the backward pass\u001B[39;00m\n\u001B[1;32m    745\u001B[0m         t_outputs, \u001B[38;5;241m*\u001B[39margs, \u001B[38;5;241m*\u001B[39m\u001B[38;5;241m*\u001B[39mkwargs\n\u001B[1;32m    746\u001B[0m     )  \u001B[38;5;66;03m# Calls into the C++ engine to run the backward pass\u001B[39;00m\n\u001B[1;32m    747\u001B[0m \u001B[38;5;28;01mfinally\u001B[39;00m:\n\u001B[1;32m    748\u001B[0m     \u001B[38;5;28;01mif\u001B[39;00m attach_logging_hooks:\n",
      "\u001B[0;31mKeyboardInterrupt\u001B[0m: "
     ]
    }
   ],
   "execution_count": 13
  },
  {
   "metadata": {},
   "cell_type": "markdown",
   "source": "# Load Model Weights"
  },
  {
   "metadata": {
    "ExecuteTime": {
     "end_time": "2024-06-11T10:54:18.442997Z",
     "start_time": "2024-06-11T10:54:15.812907Z"
    }
   },
   "cell_type": "code",
   "source": [
    "model = UNet(n_channels=3, n_classes=3)\n",
    "weights_file = '../weights/3classModel_epoch_0.pth'\n",
    "model.load_state_dict(torch.load(weights_file, map_location=device))\n",
    "model = model.to(device)"
   ],
   "outputs": [],
   "execution_count": 15
  },
  {
   "metadata": {
    "ExecuteTime": {
     "end_time": "2024-06-11T10:50:29.438239Z",
     "start_time": "2024-06-11T10:50:29.436794Z"
    }
   },
   "cell_type": "code",
   "source": [
    "import numpy as np\n",
    "\n",
    "def compute_metrics(model, test_loader, device, n_classes):\n",
    "    model.eval()\n",
    "    ious = []\n",
    "    dice_scores = []\n",
    "    total_dice = 0\n",
    "    total_iou = 0\n",
    "    accuracies = np.zeros(n_classes)\n",
    "    with torch.no_grad():\n",
    "        for images, true_masks in test_loader:\n",
    "            images, true_masks = images.to(device), true_masks.to(device, dtype=torch.long)\n",
    "            pred_masks = model(images)\n",
    "            mask_true = true_masks\n",
    "            mask_pred = F.one_hot(pred_masks.argmax(dim=1), n_classes).permute(0, 3, 1, 2).float()\n",
    "            # compute the Dice score, ignoring background\n",
    "            total_dice += multiclass_dice_coeff(pred_masks[:, 1:], true_masks[:, 1:], reduce_batch_first=False)\n",
    "            # compute the accuracy per class\n",
    "            for mask_class in range(n_classes):\n",
    "                # Select only the pixels that are classified as that class in both the predicted and true masks\n",
    "                mask_pred_class = mask_pred[:, mask_class]\n",
    "                mask_true_class = mask_true[:, mask_class]\n",
    "                mask_overlap = mask_pred_class.int() & mask_true_class.int()\n",
    "                \n",
    "                # Compute the accuracy for the selected pixels\n",
    "                mask_overlap = mask_pred_class.int() & mask_true_class.int()\n",
    "\n",
    "                # Compute the accuracy for the selected pixels\n",
    "                if mask_true_class.sum().item() > 0:  # Only compute accuracy for classes that appear in the mask\n",
    "                    accuracies[mask_class] += (mask_overlap.sum().item() / mask_true_class.sum().item())\n",
    "            # compute the IoU per class\n",
    "            intersection = (mask_pred * mask_true).sum(dim=(1, 2, 3))\n",
    "            union = mask_pred.sum(dim=(1, 2, 3)) + mask_true.sum(dim=(1, 2, 3)) - intersection\n",
    "            iou = (intersection + 1e-6) / (union + 1e-6)\n",
    "            ious.append(iou.cpu().numpy())\n",
    "            total_iou += iou.mean().item()\n",
    "    dice_scores = total_dice / len(test_loader)\n",
    "    accuracies /= len(test_loader)\n",
    "    \n",
    "    return ious, dice_scores, accuracies"
   ],
   "outputs": [],
   "execution_count": null
  },
  {
   "metadata": {
    "ExecuteTime": {
     "end_time": "2024-06-11T10:55:05.404386Z",
     "start_time": "2024-06-11T10:55:04.492272Z"
    }
   },
   "cell_type": "code",
   "source": [
    "# show tensor image\n",
    "import matplotlib.pyplot as plt\n",
    "import numpy as np\n",
    "import torch\n",
    "\n",
    "def show_image(image, mask=None):\n",
    "    if image.shape[0] == 1:\n",
    "        image = image.squeeze(0)\n",
    "    if image.shape[0] == 3:\n",
    "        image = image.permute(1, 2, 0)\n",
    "    if mask is not None:\n",
    "        fig, ax = plt.subplots(1, 2)\n",
    "        ax[0].imshow(image.permute(0, 1, 2))\n",
    "        ax[1].imshow(mask)\n",
    "        plt.show()\n",
    "    else:\n",
    "        plt.imshow(image.permute(0, 1, 2))\n",
    "        plt.show()"
   ],
   "outputs": [],
   "execution_count": 23
  },
  {
   "metadata": {
    "ExecuteTime": {
     "end_time": "2024-06-11T10:56:49.507256Z",
     "start_time": "2024-06-11T10:56:49.500308Z"
    }
   },
   "cell_type": "code",
   "source": [
    "def show_mask_comparison(mask, output):\n",
    "    n_classes = mask.shape[0]\n",
    "    fig, ax = plt.subplots(n_classes, 2)\n",
    "    for i in range(n_classes):\n",
    "        ax[i, 0].imshow(mask[i])\n",
    "        ax[i, 1].imshow(output[i])\n",
    "    plt.show()\n",
    "    \n",
    "def show_mask_comparison_per_class(mask, output, class_idx):\n",
    "    n_classes = mask.shape[0]\n",
    "    fig, ax = plt.subplots(1, 2)\n",
    "    ax[0].imshow(mask[class_idx])\n",
    "    ax[1].imshow(output[class_idx])\n",
    "    plt.show()\n",
    "    \n",
    "def show_output_mask(output):\n",
    "    fig, ax = plt.subplots(1, 1)\n",
    "    ax.imshow(output[0])\n",
    "    plt.show()"
   ],
   "outputs": [],
   "execution_count": 29
  },
  {
   "metadata": {
    "ExecuteTime": {
     "end_time": "2024-06-11T10:58:06.978197Z",
     "start_time": "2024-06-11T10:58:06.962167Z"
    }
   },
   "cell_type": "code",
   "source": [
    "from PIL import Image\n",
    "image_file = \"../images/example_img.jpg\"\n",
    "image = Image.open(image_file)"
   ],
   "outputs": [],
   "execution_count": 34
  },
  {
   "metadata": {
    "ExecuteTime": {
     "end_time": "2024-06-11T10:54:50.342427Z",
     "start_time": "2024-06-11T10:54:50.336354Z"
    }
   },
   "cell_type": "code",
   "source": [
    "def prepare_image(image):\n",
    "    mean = torch.tensor([0.593, 0.567, 0.534])\n",
    "    std = torch.tensor([0.247, 0.247, 0.247])\n",
    "    img_transform = transforms.Compose([\n",
    "        transforms.ToTensor(),\n",
    "        transforms.Resize((600, 400)),\n",
    "        transforms.Normalize(mean, std)\n",
    "    ])\n",
    "    return img_transform(image).unsqueeze(0)\n",
    "    "
   ],
   "outputs": [],
   "execution_count": 18
  },
  {
   "metadata": {
    "ExecuteTime": {
     "end_time": "2024-06-11T10:58:09.215505Z",
     "start_time": "2024-06-11T10:58:08.884002Z"
    }
   },
   "cell_type": "code",
   "source": "image_tensor = prepare_image(image)",
   "outputs": [],
   "execution_count": 35
  },
  {
   "metadata": {
    "ExecuteTime": {
     "end_time": "2024-06-11T10:58:09.359135Z",
     "start_time": "2024-06-11T10:58:09.217145Z"
    }
   },
   "cell_type": "code",
   "source": [
    "model = model.to(device)\n",
    "output = model(image_tensor.to(device)).argmax(dim=1)"
   ],
   "outputs": [],
   "execution_count": 36
  },
  {
   "metadata": {
    "ExecuteTime": {
     "end_time": "2024-06-11T10:58:10.523968Z",
     "start_time": "2024-06-11T10:58:10.400607Z"
    }
   },
   "cell_type": "code",
   "source": "show_image(image_tensor, output.cpu().squeeze(0))",
   "outputs": [
    {
     "name": "stderr",
     "output_type": "stream",
     "text": [
      "Clipping input data to the valid range for imshow with RGB data ([0..1] for floats or [0..255] for integers).\n"
     ]
    },
    {
     "data": {
      "text/plain": [
       "<Figure size 640x480 with 2 Axes>"
      ],
      "image/png": "[encoded data removed]"
     },
     "metadata": {},
     "output_type": "display_data"
    }
   ],
   "execution_count": 37
  },
  {
   "metadata": {},
   "cell_type": "code",
   "outputs": [],
   "execution_count": null,
   "source": ""
  }
 ],
 "metadata": {
  "kernelspec": {
   "display_name": "Python 3",
   "language": "python",
   "name": "python3"
  },
  "language_info": {
   "codemirror_mode": {
    "name": "ipython",
    "version": 3
   },
   "file_extension": ".py",
   "mimetype": "text/x-python",
   "name": "python",
   "nbconvert_exporter": "python",
   "pygments_lexer": "ipython3",
   "version": "3.10.1"
  }
 },
 "nbformat": 4,
 "nbformat_minor": 2
}
